{
 "cells": [
  {
   "cell_type": "code",
   "execution_count": 1,
   "metadata": {},
   "outputs": [
    {
     "name": "stdout",
     "output_type": "stream",
     "text": [
      "['Parasitized', 'Uninfected']\n"
     ]
    },
    {
     "name": "stderr",
     "output_type": "stream",
     "text": [
      "Using TensorFlow backend.\n"
     ]
    }
   ],
   "source": [
    "import numpy as np # linear algebra\n",
    "import pandas as pd # data processing, CSV file I/O (e.g. pd.read_csv)\n",
    "\n",
    "import os\n",
    "print(os.listdir(\"input/cell_images/cell_images\"))\n",
    "from glob import glob\n",
    "from PIL import Image\n",
    "%matplotlib inline\n",
    "import matplotlib.pyplot as plt\n",
    "import cv2\n",
    "import fnmatch\n",
    "import keras\n",
    "from time import sleep\n",
    "from keras.utils import to_categorical\n",
    "from keras.models import Sequential\n",
    "from keras.layers import Dense,Conv2D,MaxPool2D,Dropout,Flatten,BatchNormalization,MaxPooling2D,Activation\n",
    "from keras.optimizers import RMSprop,Adam\n",
    "from tensorflow.keras.callbacks import EarlyStopping\n",
    "from keras import backend as k"
   ]
  },
  {
   "cell_type": "code",
   "execution_count": 2,
   "metadata": {},
   "outputs": [
    {
     "name": "stdout",
     "output_type": "stream",
     "text": [
      "13779\n",
      "13779\n"
     ]
    }
   ],
   "source": [
    "imagePatches_0 = glob('input/cell_images/cell_images/Uninfected/*.png', recursive=True)\n",
    "imagePatches_1 = glob('input/cell_images/cell_images/Parasitized/*.png', recursive=True)\n",
    "print(len(imagePatches_0))\n",
    "print(len(imagePatches_1))"
   ]
  },
  {
   "cell_type": "code",
   "execution_count": null,
   "metadata": {},
   "outputs": [],
   "source": []
  },
  {
   "cell_type": "code",
   "execution_count": 3,
   "metadata": {},
   "outputs": [],
   "source": [
    "x=[]\n",
    "y=[]\n",
    "for img in imagePatches_0:\n",
    "    full_size_image = cv2.imread(img)\n",
    "    im = cv2.resize(full_size_image, (224, 224), interpolation=cv2.INTER_CUBIC)\n",
    "    x.append(im)\n",
    "    y.append(0)\n",
    "for img in imagePatches_1:\n",
    "    full_size_image = cv2.imread(img)\n",
    "    im = cv2.resize(full_size_image, (224, 224), interpolation=cv2.INTER_CUBIC)\n",
    "    x.append(im)\n",
    "    y.append(1)\n",
    "x = np.array(x)\n",
    "y = np.array(y)"
   ]
  },
  {
   "cell_type": "code",
   "execution_count": 4,
   "metadata": {},
   "outputs": [],
   "source": [
    "from sklearn.model_selection import train_test_split\n",
    "x_train, x_valid, y_train, y_valid = train_test_split(x, y, test_size = 0.2, random_state = 101)\n",
    "y_train = to_categorical(y_train, num_classes = 2)\n",
    "y_valid = to_categorical(y_valid, num_classes = 2)\n",
    "del x, y"
   ]
  },
  {
   "cell_type": "code",
   "execution_count": 5,
   "metadata": {},
   "outputs": [],
   "source": [
    "import keras\n",
    "from keras.models import Sequential,Input,Model\n",
    "from keras.layers import Conv2D, MaxPooling2D, MaxPooling1D, GlobalAveragePooling2D, Dense, Dropout, Flatten, Input, LSTM, TimeDistributed\n",
    "from keras.layers.normalization import BatchNormalization\n",
    "from keras.layers.advanced_activations import LeakyReLU \n",
    "model = Sequential()\n",
    "model.add(Conv2D(32,(7,7),activation='relu'))\n",
    "model.add(MaxPooling2D((2,2)))\n",
    "model.add(BatchNormalization())\n",
    "model.add(Dropout(0.15))\n",
    "model.add(Conv2D(64,(5,5),activation='relu'))\n",
    "model.add(MaxPooling2D((2,2)))\n",
    "model.add(BatchNormalization())\n",
    "model.add(Dropout(0.15))\n",
    "model.add(Conv2D(128,(3,3),activation='relu'))\n",
    "model.add(MaxPooling2D((2,2)))\n",
    "model.add(BatchNormalization())\n",
    "model.add(Dropout(0.15))\n",
    "model.add(Conv2D(128,(3,3),activation='relu'))\n",
    "model.add(MaxPooling2D((2,2)))\n",
    "model.add(BatchNormalization())\n",
    "model.add(Dropout(0.15))\n",
    "model.add(GlobalAveragePooling2D())\n",
    "model.add(Dense(1000, activation='relu'))\n",
    "model.add(Dense(2,activation='softmax'))\n",
    "model.compile(optimizer='adam', loss = 'categorical_crossentropy', metrics=['accuracy'])\n",
    "#model.summary()"
   ]
  },
  {
   "cell_type": "code",
   "execution_count": 6,
   "metadata": {},
   "outputs": [
    {
     "name": "stdout",
     "output_type": "stream",
     "text": [
      "Train on 17636 samples, validate on 4410 samples\n",
      "Epoch 1/10\n",
      "17636/17636 [==============================] - 4951s 281ms/step - loss: 0.3087 - acc: 0.8649 - val_loss: 0.1879 - val_acc: 0.9268\n",
      "Epoch 2/10\n",
      "17636/17636 [==============================] - 4835s 274ms/step - loss: 0.1866 - acc: 0.9335 - val_loss: 0.1667 - val_acc: 0.9401\n",
      "Epoch 3/10\n",
      "17636/17636 [==============================] - 4817s 273ms/step - loss: 0.1694 - acc: 0.9419 - val_loss: 0.1449 - val_acc: 0.9492\n",
      "Epoch 4/10\n",
      "17636/17636 [==============================] - 4800s 272ms/step - loss: 0.1516 - acc: 0.9470 - val_loss: 0.1383 - val_acc: 0.9558\n",
      "Epoch 5/10\n",
      "17636/17636 [==============================] - 4773s 271ms/step - loss: 0.1451 - acc: 0.9502 - val_loss: 0.1267 - val_acc: 0.9608\n",
      "Epoch 6/10\n",
      "17636/17636 [==============================] - 4855s 275ms/step - loss: 0.1374 - acc: 0.9525 - val_loss: 0.1262 - val_acc: 0.9565\n",
      "Epoch 7/10\n",
      "17636/17636 [==============================] - 4775s 271ms/step - loss: 0.1276 - acc: 0.9559 - val_loss: 0.1269 - val_acc: 0.9544\n",
      "Epoch 8/10\n",
      "17636/17636 [==============================] - 4705s 267ms/step - loss: 0.1235 - acc: 0.9581 - val_loss: 0.4074 - val_acc: 0.8773\n",
      "Epoch 9/10\n",
      "17636/17636 [==============================] - 4801s 272ms/step - loss: 0.1208 - acc: 0.9587 - val_loss: 0.1684 - val_acc: 0.9458\n",
      "Epoch 10/10\n",
      "17636/17636 [==============================] - 4771s 271ms/step - loss: 0.1184 - acc: 0.9614 - val_loss: 0.1930 - val_acc: 0.9333\n"
     ]
    }
   ],
   "source": [
    "from keras.callbacks import ModelCheckpoint\n",
    "mcp = ModelCheckpoint(filepath='model_check_path.hdf5',monitor=\"val_acc\", save_best_only=True, save_weights_only=False)\n",
    "hist = model.fit(x_train,y_train,batch_size = 32, epochs = 10, verbose=1,  validation_split=0.2, callbacks=[mcp])"
   ]
  },
  {
   "cell_type": "code",
   "execution_count": 7,
   "metadata": {},
   "outputs": [
    {
     "data": {
      "image/png": "[encoded data removed]",
      "text/plain": [
       "<Figure size 432x288 with 1 Axes>"
      ]
     },
     "metadata": {
      "needs_background": "light"
     },
     "output_type": "display_data"
    }
   ],
   "source": [
    "fig = plt.figure()\n",
    "ax = fig.add_subplot(111)\n",
    "ax.set_facecolor('w')\n",
    "ax.grid(b=False)\n",
    "ax.plot(hist.history['acc'], color='red')\n",
    "ax.plot(hist.history['val_acc'], color ='green')\n",
    "plt.title('model accuracy')\n",
    "plt.ylabel('accuracy')\n",
    "plt.xlabel('epoch')\n",
    "plt.legend(['train', 'test'], loc='lower right')\n",
    "plt.show()"
   ]
  },
  {
   "cell_type": "code",
   "execution_count": 8,
   "metadata": {},
   "outputs": [
    {
     "data": {
      "image/png": "[encoded data removed]",
      "text/plain": [
       "<Figure size 432x288 with 1 Axes>"
      ]
     },
     "metadata": {
      "needs_background": "light"
     },
     "output_type": "display_data"
    }
   ],
   "source": [
    "fig = plt.figure()\n",
    "ax = fig.add_subplot(111)\n",
    "ax.set_facecolor('w')\n",
    "ax.grid(b=False)\n",
    "ax.plot(hist.history['loss'], color='red')\n",
    "ax.plot(hist.history['val_loss'], color ='green')\n",
    "plt.title('model loss')\n",
    "plt.ylabel('loss')\n",
    "plt.xlabel('epoch')\n",
    "plt.legend(['train', 'test'], loc='upper right')\n",
    "plt.show()"
   ]
  },
  {
   "cell_type": "code",
   "execution_count": 9,
   "metadata": {},
   "outputs": [],
   "source": [
    "model.load_weights('model_check_path.hdf5')"
   ]
  },
  {
   "cell_type": "code",
   "execution_count": 12,
   "metadata": {},
   "outputs": [
    {
     "name": "stdout",
     "output_type": "stream",
     "text": [
      "              precision    recall  f1-score   support\n",
      "\n",
      "           0       0.95      0.97      0.96      2791\n",
      "           1       0.97      0.95      0.96      2721\n",
      "\n",
      "   micro avg       0.96      0.96      0.96      5512\n",
      "   macro avg       0.96      0.96      0.96      5512\n",
      "weighted avg       0.96      0.96      0.96      5512\n",
      "\n"
     ]
    }
   ],
   "source": [
    "from sklearn.metrics import classification_report\n",
    "pred = model.predict(x_valid)\n",
    "print(classification_report(np.argmax(y_valid, axis = 1),np.argmax(pred, axis = 1)))"
   ]
  },
  {
   "cell_type": "code",
   "execution_count": 13,
   "metadata": {},
   "outputs": [],
   "source": [
    "def plot_confusion_matrix(cm,\n",
    "                          target_names,\n",
    "                          title='Confusion matrix',\n",
    "                          cmap=None,\n",
    "                          normalize=True):\n",
    "    import matplotlib.pyplot as plt\n",
    "    import numpy as np\n",
    "    import itertools\n",
    "\n",
    "    accuracy = np.trace(cm) / float(np.sum(cm))\n",
    "    misclass = 1 - accuracy\n",
    "\n",
    "    if cmap is None:\n",
    "        cmap = plt.get_cmap('Blues')\n",
    "\n",
    "    plt.figure(figsize=(8, 6))\n",
    "    plt.grid(b=False)\n",
    "    plt.imshow(cm, interpolation='nearest', cmap=cmap)\n",
    "    plt.title(title)\n",
    "    plt.colorbar()\n",
    "\n",
    "    if target_names is not None:\n",
    "        tick_marks = np.arange(len(target_names))\n",
    "        plt.xticks(tick_marks, target_names, rotation=45)\n",
    "        plt.yticks(tick_marks, target_names)\n",
    "    if normalize:\n",
    "        cm = cm.astype('float') / cm.sum(axis=1)[:, np.newaxis]\n",
    "\n",
    "\n",
    "    thresh = cm.max() / 1.5 if normalize else cm.max() / 2\n",
    "    for i, j in itertools.product(range(cm.shape[0]), range(cm.shape[1])):\n",
    "        if normalize:\n",
    "            plt.text(j, i, \"{:0.4f}\".format(cm[i, j]),\n",
    "                     horizontalalignment=\"center\",\n",
    "                     color=\"white\" if cm[i, j] > thresh else \"black\")\n",
    "        else:\n",
    "            plt.text(j, i, \"{:,}\".format(cm[i, j]),\n",
    "                     horizontalalignment=\"center\",\n",
    "                     color=\"white\" if cm[i, j] > thresh else \"black\")\n",
    "\n",
    "\n",
    "    plt.tight_layout()\n",
    "    plt.ylabel('True label')\n",
    "    plt.xlabel('Predicted label\\naccuracy={:0.4f}; misclass={:0.4f}'.format(accuracy, misclass))\n",
    "    plt.show()"
   ]
  },
  {
   "cell_type": "code",
   "execution_count": 14,
   "metadata": {},
   "outputs": [
    {
     "data": {
      "image/png": "[encoded data removed]",
      "text/plain": [
       "<Figure size 576x432 with 2 Axes>"
      ]
     },
     "metadata": {
      "needs_background": "light"
     },
     "output_type": "display_data"
    }
   ],
   "source": [
    "from sklearn.metrics import confusion_matrix\n",
    "cm = confusion_matrix(np.argmax(y_valid, axis = 1),np.argmax(pred, axis = 1))\n",
    "plot_confusion_matrix(cm = cm,\n",
    "                      normalize    = False,\n",
    "                      cmap ='Reds',\n",
    "                      target_names = ['Uninfected', 'Parasitized'],\n",
    "                      title        = \"Confusion Matrix\")"
   ]
  },
  {
   "cell_type": "code",
   "execution_count": null,
   "metadata": {},
   "outputs": [],
   "source": []
  }
 ],
 "metadata": {
  "kernelspec": {
   "display_name": "'Python Interactive'",
   "language": "python",
   "name": "67283add-5ed2-41cb-a68b-906c9b3b88fe"
  },
  "language_info": {
   "codemirror_mode": {
    "name": "ipython",
    "version": 3
   },
   "file_extension": ".py",
   "mimetype": "text/x-python",
   "name": "python",
   "nbconvert_exporter": "python",
   "pygments_lexer": "ipython3",
   "version": "3.6.8"
  }
 },
 "nbformat": 4,
 "nbformat_minor": 2
}
